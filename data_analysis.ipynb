{
 "cells": [
  {
   "cell_type": "code",
   "execution_count": null,
   "metadata": {},
   "outputs": [],
   "source": [
    "import os\n",
    "from pyrosm import OSM\n",
    "import osmnx as ox\n",
    "import geopandas as gpd\n",
    "import pandas as pd\n",
    "import uuid\n",
    "import matplotlib.pyplot as plt\n",
    "\n",
    "#project specific packages\n",
    "import services.network_bands as network_bands\n",
    "import services.batch_csv as batch_csv\n",
    "import services.census as census"
   ]
  },
  {
   "cell_type": "code",
   "execution_count": null,
   "metadata": {},
   "outputs": [],
   "source": [
    "#https://build.nisra.gov.uk/en/custom/data?d=HOUSEHOLD&v=DZ21&v=HH_LIFESTAGE_AGG15"
   ]
  },
  {
   "cell_type": "code",
   "execution_count": null,
   "metadata": {},
   "outputs": [],
   "source": [
    "#set base directory for data file paths.\n",
    "base_dir = os.getcwd()"
   ]
  },
  {
   "cell_type": "code",
   "execution_count": null,
   "metadata": {},
   "outputs": [],
   "source": [
    "# create network graph and edges.\n",
    "base_road_path = f'{base_dir}\\\\testEnvironment\\\\Data\\\\belfast_slightly_trimmed.osm.pbf'\n",
    "G, nodes, edges = network_bands.load_osm_network(file_path=base_road_path, network_type='driving', graph_type='networkx')"
   ]
  },
  {
   "cell_type": "code",
   "execution_count": null,
   "metadata": {},
   "outputs": [],
   "source": [
    "#Start locations\n",
    "start_locations = pd.read_csv(f'{base_dir}\\\\testEnvironment\\\\Data\\\\libraries_belfast_2024.csv')\n",
    "print(start_locations.columns)\n",
    "#Ensure data is converted to a dataframe\n",
    "start_locations_gdf = network_bands.csv_to_gdf(start_locations, 'X COORDINATE', 'Y COORDINATE', 29902, 4326)\n",
    "print(start_locations_gdf)"
   ]
  },
  {
   "cell_type": "code",
   "execution_count": null,
   "metadata": {},
   "outputs": [],
   "source": [
    "#Create the network areas and contours - Considering making this into a Class with basic GUI, but for now fine as this.\n",
    "start_locations_nearest_node = network_bands.nearest_node_and_name(G, start_locations=start_locations_gdf,  \n",
    "                                                                   location_name = 'Static Library Name')\n",
    "\n",
    "#Create service areas for each distance. Remember, these overlap, good for counting checking how close \n",
    "#input custom distances as a list.\n",
    "search_distances = [1000,2000,3000]\n",
    "#Create individual network areas around start locations. alpha area of 500 quite good for Belfast\n",
    "network_areas = network_bands.network_areas(nearest_node_dict=start_locations_nearest_node, graph=G, \n",
    "                                                    search_distances=search_distances, alpha_value=500, weight = 'length', progress=True)\n",
    "#Create network area contours by dissolving and differencing polygons based on distance.\n",
    "network_contours = network_bands.network_contours(network_areas, dissolve_cat='distance',aggfunc='first', show_graph=True)"
   ]
  },
  {
   "cell_type": "code",
   "execution_count": null,
   "metadata": {},
   "outputs": [],
   "source": [
    "#Load in data zones from 2021 census\n",
    "#Ensure evrything's in 4326 for network analysis, probably can change it back to tm65.\n",
    "data_zones = gpd.read_file(f'{base_dir}\\\\testEnvironment\\\\Data\\\\DZ2021.shp')\n",
    "data_zones.to_crs(4326, inplace=True)\n",
    "#extract only belfast datazones\n",
    "belfast_zones = data_zones[data_zones['LGD2014_nm'] == 'Belfast']\n",
    "#Load in house data \n",
    "pointer = gpd.read_file(f'{base_dir}\\\\testEnvironment\\\\Data\\\\pointer_randomised.shp')\n",
    "pointer['uuid'] = pointer.apply(lambda _: uuid.uuid4(), axis=1)\n",
    "pointer.to_crs(4326, inplace=True)"
   ]
  },
  {
   "cell_type": "code",
   "execution_count": null,
   "metadata": {},
   "outputs": [],
   "source": [
    "# fig, ax = plt.subplots(figsize=(12,12))\n",
    "\n",
    "# edges.plot(ax=ax, zorder=2)\n",
    "# pointer.plot(ax=ax, color='black', zorder = 12, markersize=2)\n",
    "# start_locations_gdf.plot(ax=ax, color='red', zorder=13, markersize=150)\n",
    "# belfast_zones.plot(ax=ax, color='gray', zorder=11)\n"
   ]
  },
  {
   "cell_type": "code",
   "execution_count": null,
   "metadata": {},
   "outputs": [],
   "source": [
    "#Performa spatial join of pointer households and datazones in belfast\n",
    "joined_gdf = gpd.sjoin(pointer, belfast_zones, how='inner', op='within')\n",
    "\n",
    "# Count the points per data zone using 'index_right'  which = belfast_zones\n",
    "point_counts = joined_gdf.groupby('index_right').size()\n",
    "point_counts = point_counts.reset_index(name='actual_households')\n",
    "\n",
    "# Merge the counts back to the belfast data zones GeoDataFrame, right_on =right as datazones are the right joined gdf.\n",
    "belfast_zones = belfast_zones.merge(point_counts, how='left', left_index=True, right_on='index_right')\n",
    "# Turn NaN to 0\n",
    "belfast_zones['actual_households'] = belfast_zones['actual_households'].fillna(0).reset_index(drop=True)"
   ]
  },
  {
   "cell_type": "code",
   "execution_count": null,
   "metadata": {},
   "outputs": [],
   "source": [
    "#Load the Census data, file_paths in file_paths.\n",
    "file_paths = [\n",
    "    '/testEnvironment/Data/census_data/ni-2021-usual-residents.csv',\n",
    "    '/testEnvironment/Data/census_data/ni-2021-households.csv',\n",
    "    '/testEnvironment/Data/census_data/ni-2021-employment-deprivation.csv'\n",
    "]\n",
    "#extract each one from dataframe\n",
    "loaded_csv = batch_csv.batch_csv_read(file_paths)\n",
    "\n",
    "#check data is loaded loaded\n",
    "print(loaded_csv.keys())\n",
    "\n",
    "#force rename to maintain consistency of important join value column.\n",
    "loaded_csv['ni-2021-employment-deprivation'].rename(columns={'Census 2021 Data Zone Code':'Geography code'}, inplace=True)\n",
    "\n",
    "#OSNI data has irregular capitalisation, avoids this bug by forcing lower case. Some are 'Geography Code', 'geography Code' etc.\n",
    "for key, df in loaded_csv.items():\n",
    "    df.columns = df.columns.str.lower()\n",
    "    \n",
    "joined_census_data = census.join_census_csv(loaded_csv, 'geography code',  drop=True,join_type='left')"
   ]
  },
  {
   "cell_type": "code",
   "execution_count": null,
   "metadata": {},
   "outputs": [],
   "source": [
    "#Calculate CENSUS METRICS PER HOUSE in pointer data\n",
    "#join the census data loaded \n",
    "belfast_zones = pd.merge(joined_census_data, belfast_zones, left_on='geography code', right_on='DZ2021_cd')\n",
    "#Need to force these to numeric. Ensure coerce for any nulls\n",
    "belfast_zones['all households'] = pd.to_numeric(belfast_zones['all households'], errors = 'coerce')\n",
    "belfast_zones['all usual residents'] = pd.to_numeric(belfast_zones['all usual residents'], errors = 'coerce')\n",
    "#Force to gdf, currently will be a panda series\n",
    "belfast_zones = gpd.GeoDataFrame(belfast_zones)\n",
    "#the data from employment has it as count, renamed for clarity\n",
    "belfast_zones.rename(columns={'count': 'employment_deprivation_count'}, inplace=True)\n",
    "\n",
    "## Calculate your metrics. Average resident per house etc.\n",
    "# actual household data has been extracted by spatial join of the randomised poitner dataset. \n",
    "#average residents per household\n",
    "belfast_zones['avg_resi_house'] = (belfast_zones['all usual residents']/belfast_zones['actual_households'])\n",
    "#average employment deprivation per household\n",
    "belfast_zones['avg_emp_depri_per_house'] = belfast_zones['employment_deprivation_count']/belfast_zones['actual_households']\n",
    "#average employment deprivation per person\n",
    "belfast_zones['avg_emp_depri_per_capita'] = belfast_zones['employment_deprivation_count']/belfast_zones['all usual residents']\n",
    "\n",
    "\n"
   ]
  }
 ],
 "metadata": {
  "kernelspec": {
   "display_name": "netgeo_env",
   "language": "python",
   "name": "python3"
  },
  "language_info": {
   "codemirror_mode": {
    "name": "ipython",
    "version": 3
   },
   "file_extension": ".py",
   "mimetype": "text/x-python",
   "name": "python",
   "nbconvert_exporter": "python",
   "pygments_lexer": "ipython3",
   "version": "3.12.3"
  }
 },
 "nbformat": 4,
 "nbformat_minor": 2
}
