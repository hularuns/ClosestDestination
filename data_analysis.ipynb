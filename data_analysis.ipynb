{
 "cells": [
  {
   "cell_type": "code",
   "execution_count": 1,
   "metadata": {},
   "outputs": [],
   "source": [
    "import os\n",
    "#from pyrosm import OSM\n",
    "import geopandas as gpd\n",
    "import pandas as pd\n",
    "import uuid\n",
    "import folium\n",
    "from folium.features import GeoJsonPopup\n",
    "import branca.colormap as cm\n",
    "import json\n",
    "\n",
    "#project specific packages\n",
    "import services.network_bands as network_bands\n",
    "import services.batch_csv as batch_csv\n",
    "import services.census_merge as census_merge\n",
    "import services.pandas_aux as pdaux"
   ]
  },
  {
   "cell_type": "code",
   "execution_count": 2,
   "metadata": {},
   "outputs": [],
   "source": [
    "#set base directory for data file paths.\n",
    "base_dir = os.getcwd()\n",
    "# create network graph and edges.\n",
    "base_road_path = f'{base_dir}\\\\testEnvironment\\\\Data\\\\belfast.osm.pbf'\n",
    "G, nodes, edges = network_bands.load_osm_network(file_path=base_road_path, network_type='driving', graph_type='networkx')"
   ]
  },
  {
   "cell_type": "code",
   "execution_count": 3,
   "metadata": {},
   "outputs": [
    {
     "name": "stdout",
     "output_type": "stream",
     "text": [
      "Index(['Static Library Name', 'Number', 'Street', 'Town', 'Postcode', 'Tel No',\n",
      "       'X COORDINATE', 'Y COORDINATE'],\n",
      "      dtype='object')\n"
     ]
    }
   ],
   "source": [
    "#Start locations\n",
    "start_locations = pd.read_csv(f'{base_dir}\\\\testEnvironment\\\\Data\\\\libraries_belfast_2024.csv')\n",
    "print(start_locations.columns)\n",
    "#Ensure data is converted to a dataframe\n",
    "start_locations_gdf = network_bands.csv_to_gdf(start_locations, 'X COORDINATE', 'Y COORDINATE', 29902, 4326)"
   ]
  },
  {
   "cell_type": "code",
   "execution_count": 8,
   "metadata": {},
   "outputs": [
    {
     "name": "stdout",
     "output_type": "stream",
     "text": [
      "       Static Library Name   Number           Street     Town  Postcode  \\\n",
      "0          Ardoyne Library  446-450     Crumlin Road  Belfast  BT14 7GH   \n",
      "1   Ballyhackamore Library  001-003  Eastleigh Drive  Belfast   BT4 3DX   \n",
      "2  Belfast Central Library      124     Royal Avenue  Belfast   BT1 1EA   \n",
      "\n",
      "          Tel No  X COORDINATE  Y COORDINATE                   geometry  \\\n",
      "0  028 9050 9202        331131        376131  POINT (-5.97089 54.61635)   \n",
      "1  028 9050 9204        337952        373959  POINT (-5.86641 54.59504)   \n",
      "2  028 9050 9150        333722        374686  POINT (-5.93147 54.60270)   \n",
      "\n",
      "                                   uuid  \n",
      "0  d1320ce5-54bf-4032-ad3f-68b877923ec9  \n",
      "1  1706725c-449d-4839-b2d0-77597eabed5d  \n",
      "2  3cae07ec-9e6c-44ee-b72a-1e1a1a657776  \n"
     ]
    }
   ],
   "source": [
    "import pprint\n",
    "pprint.pprint(start_locations_gdf.head(3))"
   ]
  },
  {
   "cell_type": "code",
   "execution_count": null,
   "metadata": {},
   "outputs": [],
   "source": [
    "#Network graph creation.\n",
    "#Create the network areas and service areas - Considering making this into a Class with basic GUI, but for now fine as this.\n",
    "start_locations_nearest_node = network_bands.nearest_node_and_name(graph=G, start_locations=start_locations_gdf,  \n",
    "                                                                   location_name = 'Static Library Name')\n",
    "\n",
    "#Create service areas for each distance. Remember, these overlap, good for counting checking how close \n",
    "#input custom distances as a list.\n",
    "search_distances = [1000,2000,3000]\n",
    "#Create individual network areas around start locations. alpha area of 500 quite good for Belfast\n",
    "network_areas = network_bands.network_areas(nearest_node_dict=start_locations_nearest_node, graph=G, \n",
    "                                                    search_distances=search_distances, alpha_value=500, weight = 'length', progress=True)\n",
    "#Create network service areas by dissolving and differencing polygons based on distance.\n",
    "network_service_areas = network_bands.network_service_areas(network_areas, dissolve_cat='distance',aggfunc='first', show_graph=True)"
   ]
  },
  {
   "cell_type": "code",
   "execution_count": null,
   "metadata": {},
   "outputs": [],
   "source": [
    "#Load in data zones from 2021 census\n",
    "#Ensure evrything's in 4326 for network analysis, probably can change it back to tm65.\n",
    "data_zones = gpd.read_file(f'{base_dir}\\\\testEnvironment\\\\Data\\\\DZ2021.shp')\n",
    "data_zones.to_crs(4326, inplace=True)\n",
    "#extract only belfast datazones\n",
    "belfast_zones = data_zones[data_zones['LGD2014_nm'] == 'Belfast']\n",
    "\n",
    "#Load in house data \n",
    "pointer = gpd.read_file(f'{base_dir}\\\\testEnvironment\\\\Data\\\\pointer_randomised.shp')\n",
    "pointer['uuid'] = pointer.apply(lambda i: uuid.uuid4(), axis=1)\n",
    "pointer.to_crs(4326, inplace=True)\n",
    "belfast_zones.to_crs(pointer.crs, inplace=True)"
   ]
  },
  {
   "cell_type": "code",
   "execution_count": null,
   "metadata": {},
   "outputs": [],
   "source": [
    "# Perform a spatial join of pointer households and datazones in Belfast to calculate households in each datazone\n",
    "joined_gdf = gpd.sjoin(pointer, belfast_zones, how='left', predicate='intersects' )\n",
    "#number of points found within each datazone\n",
    "datazone_pointer_count = joined_gdf.groupby('DZ2021_cd')['DZ2021_cd'].count().rename('actual_households').reset_index()\n",
    "belfast_zones = pd.merge(belfast_zones, datazone_pointer_count, how = 'left')"
   ]
  },
  {
   "cell_type": "code",
   "execution_count": null,
   "metadata": {},
   "outputs": [],
   "source": [
    "#Load the Census data, file_paths in file_paths.\n",
    "file_paths = [\n",
    "    '/testEnvironment/Data/census_data/ni-2021-usual-residents.csv',\n",
    "    '/testEnvironment/Data/census_data/ni-2021-households.csv',\n",
    "    '/testEnvironment/Data/census_data/ni-2021-employment-deprivation.csv'\n",
    "]\n",
    "#extract each one from dataframe\n",
    "loaded_csv = batch_csv.batch_csv_read(file_paths)\n",
    "\n",
    "#check data is loaded loaded\n",
    "print(loaded_csv.keys())\n",
    "\n",
    "#force rename to maintain consistency of important join value column.\n",
    "loaded_csv['ni-2021-employment-deprivation'].rename(columns={'Census 2021 Data Zone Code':'Geography code',\n",
    "                                                             'Count':'employment_deprivation_count'}, inplace=True)\n",
    "\n",
    "#OSNI data has irregular capitalisation, avoids this bug by forcing lower case. Some are 'Geography Code', 'geography Code' etc.\n",
    "# Need to incorporate this properly into function\n",
    "for key, df in loaded_csv.items():\n",
    "    df.columns = df.columns.str.lower()\n",
    "    \n",
    "joined_census_data = census_merge.join_census_csv(loaded_csv, 'geography code',  drop=True,join_type='left')\n",
    "#dropping some extraneous columns as they are not needed and clutter the dataset\n",
    "joined_census_data.drop(columns=['household deprivation (employment) code','household deprivation (employment) label'], inplace=True)"
   ]
  },
  {
   "cell_type": "code",
   "execution_count": null,
   "metadata": {},
   "outputs": [],
   "source": [
    "# Merge the data zones with the \n",
    "belfast_zones_census = pd.merge(belfast_zones, joined_census_data, left_on='DZ2021_cd', right_on='geography code', how='left', suffixes=('_left', '_right'))\n",
    "\n",
    "# Drop the duplicate columns from the merged dataframe\n",
    "census_merge.drop_dupe_cols(belfast_zones_census, ('_left', '_right'))"
   ]
  },
  {
   "cell_type": "code",
   "execution_count": null,
   "metadata": {},
   "outputs": [],
   "source": [
    "#Calculate CENSUS METRICS PER HOUSE in pointer data\n",
    "#join the census data loaded \n",
    "#Need to force these to numeric. Ensure coerce for any nulls\n",
    "belfast_zones_census['all households'] = pd.to_numeric(belfast_zones_census['all households'], errors = 'coerce')\n",
    "belfast_zones_census['all usual residents'] = pd.to_numeric(belfast_zones_census['all usual residents'], errors = 'coerce')\n",
    "## Calculate your metrics. Average resident per house etc.\n",
    "# actual household data has been extracted by spatial join of the randomised poitner dataset. \n",
    "#average residents per household\n",
    "belfast_zones_census['avg_resi_house'] = (belfast_zones_census['all usual residents'] / belfast_zones_census['actual_households'])\n",
    "#actual residents based off pointer\n",
    "belfast_zones_census['actual_total_residents'] = (belfast_zones_census['avg_resi_house'] * belfast_zones_census['actual_households'])\n",
    "#average number of employment deprived people per household. - Super relevant for this analysis.\n",
    "belfast_zones_census['avg_emp_dep_per_house'] = (belfast_zones_census['employment_deprivation_count'] / belfast_zones_census['actual_households'])*belfast_zones_census['avg_resi_house']\n",
    "#average number of employmenet deprived people per resident.\n",
    "belfast_zones_census['avg_emp_dep_per_capita'] = (belfast_zones_census['employment_deprivation_count'] / belfast_zones_census['all usual residents'])*belfast_zones_census['avg_resi_house']\n",
    "\n",
    "#Force to gdf, currently will be a panda series\n",
    "belfast_zones_census = gpd.GeoDataFrame(belfast_zones_census)\n"
   ]
  },
  {
   "cell_type": "code",
   "execution_count": null,
   "metadata": {},
   "outputs": [],
   "source": [
    "# Spatial join to find which network contour each household falls into\n",
    "households_with_contour = gpd.sjoin(pointer, network_service_areas, how=\"left\", predicate=\"within\")\n",
    "households_with_contour = households_with_contour.drop(columns='index_right').reset_index(drop=True)\n",
    "\n",
    "# spatial to join data zone data to each household\n",
    "households_with_zones = gpd.sjoin(households_with_contour, belfast_zones_census, how=\"left\", predicate=\"within\").drop(columns='index_right').reset_index(drop=True)\n",
    "\n",
    "# Group by census zone and distance and then count. Unstacks the distance columns to create separate columns for each distance.\n",
    "household_counts = households_with_zones.groupby(['DZ2021_cd', 'distance']).size().unstack(fill_value=0)\n",
    "\n",
    "#join this back to the belfast_census_zones to add the counts as new columns\n",
    "belfast_census_zones = belfast_zones_census.merge(household_counts, on='DZ2021_cd', how='left')\n",
    "\n",
    "#forces column names to string, as distance will be integer.\n",
    "belfast_census_zones.columns = belfast_census_zones.columns.astype(str)\n",
    "#replace NaNs with 0s\n",
    "pdaux.fill_na_with_zero(belfast_census_zones, ['1000.0','2000.0','3000.0'])\n"
   ]
  },
  {
   "cell_type": "code",
   "execution_count": null,
   "metadata": {},
   "outputs": [],
   "source": [
    "#Create a folium map - This part's quite manual.\n",
    "##ADD PIE CHARTS INSTEAD -0this is tricky\n",
    "#turn this into a bunch of functions to get this smaller and more refined down the line.\n",
    "#Numbers will be off due to randomisation of pointer dataset.\n",
    "belfast_census_data_geojson = json.loads(belfast_census_zones.to_json())\n",
    "network_service_areas_geojson = json.loads(network_service_areas.to_json())\n",
    "\n",
    "# Create the Folium map centered around the average coordinates of your geometries, can ignore warning\n",
    "map_center = belfast_census_zones.geometry.centroid.unary_union.centroid\n",
    "m = folium.Map(location=[map_center.y, map_center.x], zoom_start=12)\n",
    "\n",
    "#could turn this network_service_areas_style creation into a larger func\n",
    "distances = [1000, 2000, 3000] \n",
    "colours = ['green', 'orange', 'red']\n",
    "color_map = cm.LinearColormap(\n",
    "    colors=colours,\n",
    "    vmin=min(distances),\n",
    "    vmax=max(distances),\n",
    "    caption='Distance to Network Contours'\n",
    ")\n",
    "distance_colours = {dist: colour for dist, colour in zip(distances, colours)}\n",
    "def network_service_areas_style(feature):\n",
    "    \"\"\"Apply styles based on the distance attribute.\"\"\"\n",
    "    distance = feature['properties']['distance']\n",
    "    return {\n",
    "        'color': distance_colours.get(distance, 'gray'),\n",
    "        'weight': 2,\n",
    "        'opacity': 0.8,\n",
    "        'fillColor': distance_colours.get(distance, 'gray'), \n",
    "        'fillOpacity': 0.5\n",
    "    }\n",
    "\n",
    "#basic styling for the polygons\n",
    "def basic_poly_styling(feature):\n",
    "    return {\n",
    "        'color': 'black',\n",
    "        'weight':1,\n",
    "        'fillOpacity': 0.1\n",
    "    }\n",
    "\n",
    "#defines the highlight colour\n",
    "def highlight_function(feature):\n",
    "    return {\n",
    "        'color': 'yellow',\n",
    "        'weight': 2,\n",
    "        'fillOpacity':0.2\n",
    "    }\n",
    "network_service_areas_layer = folium.GeoJson(\n",
    "    network_service_areas_geojson,\n",
    "    style_function=network_service_areas_style,\n",
    "    name = 'contours',\n",
    "    tooltip=folium.GeoJsonTooltip(\n",
    "        fields=['distance'],\n",
    "        aliases=['Distance:'],\n",
    "        localize = True\n",
    "    )\n",
    ")\n",
    "network_service_areas_layer.add_to(m)\n",
    "\n",
    "\n",
    "#census zone layer\n",
    "data_zone_layer = folium.GeoJson(\n",
    "    belfast_census_data_geojson,\n",
    "    name='Houses within 1000m',\n",
    "    style_function=basic_poly_styling,\n",
    "    highlight_function=highlight_function,\n",
    "\n",
    "    popup = GeoJsonPopup(\n",
    "        fields=['DZ2021_cd', 'DZ2021_nm', 'actual_households', '1000.0', '2000.0', '3000.0'],\n",
    "        aliases=['Data Zone:', 'Data Zone Name:', 'Households:', 'Households within 1km:', \n",
    "                'Households within 2km:', 'Households within 3km:'],\n",
    "        localize=True,\n",
    "        labels=True\n",
    "    )\n",
    ")\n",
    "data_zone_layer.add_to(m)\n",
    "\n",
    "# layer control\n",
    "folium.LayerControl().add_to(m)\n",
    "\n",
    "# Save the map to an HTML file\n",
    "m.save('test.html', cdn_resources='cdn')\n",
    "\n",
    "m"
   ]
  },
  {
   "cell_type": "code",
   "execution_count": null,
   "metadata": {},
   "outputs": [],
   "source": [
    "network_service_areas"
   ]
  },
  {
   "cell_type": "code",
   "execution_count": null,
   "metadata": {},
   "outputs": [],
   "source": [
    "print(data['households1000'].describe())\n"
   ]
  }
 ],
 "metadata": {
  "kernelspec": {
   "display_name": "netgeo_env",
   "language": "python",
   "name": "python3"
  },
  "language_info": {
   "codemirror_mode": {
    "name": "ipython",
    "version": 3
   },
   "file_extension": ".py",
   "mimetype": "text/x-python",
   "name": "python",
   "nbconvert_exporter": "python",
   "pygments_lexer": "ipython3",
   "version": "3.12.3"
  }
 },
 "nbformat": 4,
 "nbformat_minor": 2
}
