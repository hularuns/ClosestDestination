{
 "cells": [
  {
   "cell_type": "code",
   "execution_count": null,
   "metadata": {},
   "outputs": [],
   "source": [
    "from pyrosm import OSM\n",
    "import geopandas as gpd\n",
    "import pandas as pd\n",
    "import networkx as nx\n",
    "import osmnx as ox\n",
    "from shapely.geometry import Point\n",
    "import itertools\n",
    "import matplotlib.pyplot as plt\n",
    "\n",
    "\n",
    "data_path = (r'C:\\Users\\hular\\projects\\ClosestDestination\\testEnvironment\\Data')\n",
    "#Big source: https://sustainability-gis.readthedocs.io/en/latest/lessons/L2/spatial_network_analysis.html\n",
    "\n",
    "#Clip pbf files using https://wiki.openstreetmap.org/wiki/Osmconvert"
   ]
  },
  {
   "cell_type": "code",
   "execution_count": null,
   "metadata": {},
   "outputs": [],
   "source": [
    "homes = gpd.read_file(( 'testEnvironment/Data/pointer_trimmed_for_trimmed_library.shp'))\n",
    "\n",
    "\n",
    "# # Define the location for OSM\n",
    "# place = \"Belfast, Northern Ireland\"\n",
    "# # Load the street network using osmnx\n",
    "#     # Set up configuration to use cache and logging\n",
    "# ox.config(use_cache=True, log_console=True)\n",
    "# # Include network_type 'drive' if only drivable roads included. e.g. excludes footpaths (excluding service roads)\n",
    "# roads_graph = ox.graph_from_place(place)\n",
    "\n"
   ]
  },
  {
   "cell_type": "code",
   "execution_count": null,
   "metadata": {},
   "outputs": [],
   "source": [
    "libraries = gpd.read_file('testEnvironment/Data/libraries_belfast_2024_very_trimmed.csv')"
   ]
  },
  {
   "cell_type": "code",
   "execution_count": null,
   "metadata": {},
   "outputs": [],
   "source": [
    "libraries.head()"
   ]
  },
  {
   "cell_type": "code",
   "execution_count": null,
   "metadata": {},
   "outputs": [],
   "source": [
    "osm = OSM('testEnvironment/Data/belfast_slightly_trimmed.osm.pbf')\n",
    "roads = osm.get_network(network_type=\"driving\")\n",
    "roads.plot(figsize=(10,10))"
   ]
  },
  {
   "cell_type": "code",
   "execution_count": null,
   "metadata": {},
   "outputs": [],
   "source": [
    "#converts using week 1 example. Use pds apply(Point) to turn into an actual geometry\n",
    "libraries['geometry'] = list(\n",
    "    zip(libraries['X COORDINATE'], libraries['Y COORDINATE'])\n",
    ")\n",
    "\n",
    "libraries['geometry'] = libraries['geometry'].apply(Point)\n",
    "\n",
    "\n",
    "# Now check again if any geometry is null\n",
    "if not libraries['geometry'].isna().any():\n",
    "    # Delete supurfluous x and y coord columns as now in geometry\n",
    "    libraries = libraries.drop(columns=['X COORDINATE', 'Y COORDINATE'])\n",
    "\n",
    "libraries.crs = (29902) #ensure it's the CRS\n",
    "libraries = libraries.to_crs(epsg=4326)\n",
    "homes = homes.to_crs(4326)\n",
    "\n",
    "libraries.head()\n"
   ]
  },
  {
   "cell_type": "code",
   "execution_count": null,
   "metadata": {},
   "outputs": [],
   "source": [
    "#Parses nodes and edges for network analysis and plotting.\n",
    "nodes, edges = osm.get_network(network_type='driving', nodes=True)"
   ]
  },
  {
   "cell_type": "code",
   "execution_count": null,
   "metadata": {},
   "outputs": [],
   "source": [
    "# # Replace '60 mph' with 60 in the 'maxspeed' column\n",
    "# edges['maxspeed'] = edges['maxspeed'].replace('60 mph', 60)\n",
    "\n",
    "\n",
    "# Function to convert maxspeed strings to integers\n",
    "def convert_maxspeed(speed):\n",
    "    \"\"\"  \"\"\"\n",
    "    #if some random numbers or no entry, return the nothing\n",
    "    if speed is None or speed != speed: \n",
    "        return speed\n",
    "    #if ends with mph, turn into int. Belfast set has this. \n",
    "    if speed.endswith('mph'):\n",
    "        return int(speed.replace('mph', '').strip())\n",
    "    # eturns the value of speed if it's already a number\n",
    "    return speed\n",
    "\n",
    "# Apply the conversion function to the 'maxspeed' column\n",
    "edges['maxspeed'] = edges['maxspeed'].apply(convert_maxspeed)\n"
   ]
  },
  {
   "cell_type": "code",
   "execution_count": null,
   "metadata": {},
   "outputs": [],
   "source": [
    "#remove non-driving roads/streets\n",
    "edges = edges.loc[~edges['highway'].isin(['cycleway', 'pedestrian', 'busway', 'trail', 'crossing', 'footway',\n",
    "                                          'path', 'bridleway', 'trailhead', 'raceway', 'construction'])]\n",
    "edges['highway'].unique()"
   ]
  },
  {
   "cell_type": "code",
   "execution_count": null,
   "metadata": {},
   "outputs": [],
   "source": [
    "# edges.plot()\n"
   ]
  },
  {
   "cell_type": "code",
   "execution_count": null,
   "metadata": {},
   "outputs": [],
   "source": [
    "# assign pandas integer  type so it's in an integer array.\n",
    "\n",
    "edges['maxspeed'] = edges['maxspeed'].astype(float).astype(pd.Int64Dtype())\n",
    "edges['maxspeed'].unique()\n",
    "\n",
    "edges['maxspeed'].isna().sum()\n",
    "\n",
    "\n",
    "edges.groupby('highway')['maxspeed'].sum()"
   ]
  },
  {
   "cell_type": "code",
   "execution_count": null,
   "metadata": {},
   "outputs": [],
   "source": [
    "# function to assign empty maxspeed to blanket values. To be modified with more clarity\n",
    "\n",
    "def road_class_to_mph(road_class):\n",
    "    \"\"\" Assigns mph integer speeds to the dataset, use this function with .apply() on appropriate column\"\"\"\n",
    "    if road_class == 'motorway':   \n",
    "        return 70\n",
    "    elif road_class in ['primary', 'trunk']:\n",
    "        return 60\n",
    "    elif road_class in ['motorway_link', 'primary_link', 'secondary', 'trunk_link', 'unclassified']:\n",
    "        return 50\n",
    "    elif road_class in ['residential', 'secondary_link', 'service', 'tertiary', 'tertiary_link', 'track']:\n",
    "        return 30\n",
    "    elif road_class in ['living_street', 'tertiary_link']:\n",
    "        return 20\n",
    "    elif road_class == 'services':\n",
    "        return 10\n",
    "    elif road_class == 'rest_area':\n",
    "        return 5\n",
    "    "
   ]
  },
  {
   "cell_type": "code",
   "execution_count": null,
   "metadata": {},
   "outputs": [],
   "source": [
    "#separates layers with and without speed limit information for use with road_class_to_mph function\n",
    "mask = edges['maxspeed'].isnull()\n",
    "edges_without_maxspeed = edges.loc[mask].copy()\n",
    "edges_with_maxspeed = edges.loc[~mask].copy()\n",
    "\n",
    "edges_without_maxspeed['maxspeed'] = edges_without_maxspeed['highway'].apply(road_class_to_mph)\n",
    "edges_without_maxspeed['maxspeed'].unique()\n"
   ]
  },
  {
   "cell_type": "code",
   "execution_count": null,
   "metadata": {},
   "outputs": [],
   "source": [
    "# Append modified without_speed back to unmasked max speed edges\n",
    "edges = pd.concat([edges_with_maxspeed, edges_without_maxspeed], ignore_index=True)\n",
    "edges['maxspeed'].unique()"
   ]
  },
  {
   "cell_type": "code",
   "execution_count": null,
   "metadata": {},
   "outputs": [],
   "source": [
    "#for plotting, make maxspeed back into regular integer series, we had it changed to integer array.\n",
    "edges['maxspeed'] = edges['maxspeed'].astype(int)\n",
    "# ax = edges.plot(column = 'maxspeed', figsize=(10,10), legend=True)"
   ]
  },
  {
   "cell_type": "code",
   "execution_count": null,
   "metadata": {},
   "outputs": [],
   "source": [
    "fig, ax = plt.subplots(figsize=(10, 10))\n",
    "libraries.plot(ax=ax, marker='o', color='red', markersize=50)\n",
    "edges.plot(ax=ax, column='maxspeed', figsize=(10, 10), legend=True) \n",
    "\n",
    "plt.show()\n"
   ]
  },
  {
   "cell_type": "code",
   "execution_count": null,
   "metadata": {},
   "outputs": [],
   "source": [
    "#converts mph using metres as length into travel time in seconds\n",
    "edges['travel_time_seconds'] = edges['length'] / (edges['maxspeed']*1609) *60 "
   ]
  },
  {
   "cell_type": "code",
   "execution_count": null,
   "metadata": {},
   "outputs": [],
   "source": [
    "# # Uncomment to show interactive graph using folium. FOlium is apparently being deprecated, use geopandas./\n",
    "g = osm.to_graph(nodes, edges, graph_type='networkx')\n",
    "# ox.plot_graph_folium(g)\n"
   ]
  },
  {
   "cell_type": "code",
   "execution_count": null,
   "metadata": {},
   "outputs": [],
   "source": [
    "def house_to_closest(start_locations, destination_locations, networkx_graph=g, buffer_distance = 4000):\n",
    "    \"\"\" Shortest distance to destination function. Iterates over each destination for each input location.\n",
    "    Uses dijkstra's algorithm to iterate.\n",
    "    \n",
    "    Args:\n",
    "        beginning_dataset (str): Start location dataset with geometry\n",
    "        destination_dataset (str): Destination dataset with geometry\n",
    "        network_x_graph (str): graph created using networkx {default: g}\n",
    "    \"\"\"\n",
    "    #Preload the nearest nodes to destination to reduce insane run times\n",
    "    # Create a dict of destination ids to iterate over with houses.\n",
    "    dest_node_ids = {}\n",
    "\n",
    "    for index, row in destination_locations.iterrows():\n",
    "        dest_x = row['geometry'].x\n",
    "        dest_y = row['geometry'].y\n",
    "        dest_node_ids[index] = ox.distance.nearest_nodes(networkx_graph, dest_x, dest_y)\n",
    "        \n",
    "    start_location['buffer'] = start_locations['geometry'].buffer(buffer_distance)\n",
    "        \n",
    "    #iterate over each house, then library.\n",
    "    for index, row in start_locations.iterrows():\n",
    "        start_locations_buffer = start['buffer']\n",
    "        orig_x = row['geometry'].x\n",
    "        orig_y = row['geometry'].y       \n",
    "        orig_node_id = ox.distance.nearest_nodes(networkx_graph, X = orig_x, Y = orig_y)\n",
    "        \n",
    "        local_destinations = destination_locations[destination_locations['geometry'].within(start_locations_buffer)]\n",
    "\n",
    "        # iterate over destination node id dictionary for shortest distance out of all desitnations\n",
    "        # Can enhance this by putting a buffer around each house to select for 3 or so destionations    \n",
    "        shortest_distance = float('inf')\n",
    "\n",
    "        for dest_index, dest_node_id in dest_node_ids.items():\n",
    "            path_length = nx.shortest_path_length(networkx_graph, source=orig_node_id, target = dest_node_id,\n",
    "                                                  weight = 'length')\n",
    "            if path_length < shortest_distance:\n",
    "                shortest_distance = path_length\n",
    "         \n",
    "        # Update the shortest distance in the DataFrame\n",
    "        start_locations.at[index, 'shortest_dist_to_dest'] = shortest_distance\n",
    "        \n",
    "house_to_closest(homes, libraries, g)\n",
    "        "
   ]
  },
  {
   "cell_type": "code",
   "execution_count": null,
   "metadata": {},
   "outputs": [],
   "source": [
    "homes.head(25)"
   ]
  },
  {
   "cell_type": "code",
   "execution_count": null,
   "metadata": {},
   "outputs": [],
   "source": [
    "plt.scatter(homes['geometry'].x, homes['geometry'].y)"
   ]
  },
  {
   "cell_type": "code",
   "execution_count": null,
   "metadata": {},
   "outputs": [],
   "source": [
    "from sklearn.cluster import KMeans\n",
    "data = list(zip(homes['geometry'].x, homes['geometry'].y))\n",
    "inertias = []\n",
    "\n",
    "for i in range(1, 11):\n",
    "    kmeans = KMeans(n_clusters=i)\n",
    "    kmeans.fit(data)\n",
    "    inertias.append(kmeans.inertia_)\n",
    "    \n",
    "plt.plot(range(1,11), inertias, marker='o')\n",
    "plt.title('Elbow method')\n",
    "plt.xlabel('Number of clusters')\n",
    "plt.ylabel('Inertia')\n",
    "plt.show() "
   ]
  },
  {
   "cell_type": "code",
   "execution_count": null,
   "metadata": {},
   "outputs": [],
   "source": [
    "# pick k value where there is elbow, buyt this is spatial data.\n",
    "# high k values like 400 seem better. Need to investigate better clustering.\n",
    "\n",
    "kmeans = KMeans(n_clusters=4)\n",
    "kmeans_fitted = kmeans.fit(data)\n",
    "\n",
    "plt.scatter(homes['geometry'].x, homes['geometry'].y, c = kmeans.labels_)\n",
    "plt.show()\n",
    "\n",
    "print(kmeans_fitted)"
   ]
  }
 ],
 "metadata": {
  "kernelspec": {
   "display_name": "netgeo_env",
   "language": "python",
   "name": "python3"
  },
  "language_info": {
   "codemirror_mode": {
    "name": "ipython",
    "version": 3
   },
   "file_extension": ".py",
   "mimetype": "text/x-python",
   "name": "python",
   "nbconvert_exporter": "python",
   "pygments_lexer": "ipython3",
   "version": "3.12.3"
  }
 },
 "nbformat": 4,
 "nbformat_minor": 2
}
