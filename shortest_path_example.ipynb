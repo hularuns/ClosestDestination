{
 "cells": [
  {
   "cell_type": "code",
   "execution_count": null,
   "metadata": {},
   "outputs": [],
   "source": [
    "import os\n",
    "import geopandas as gpd\n",
    "import pandas as pd\n",
    "from services import network_bands"
   ]
  },
  {
   "cell_type": "markdown",
   "metadata": {},
   "source": [
    "Example script to showcase shortest_path_iterator problems with speed."
   ]
  },
  {
   "cell_type": "code",
   "execution_count": null,
   "metadata": {},
   "outputs": [],
   "source": [
    "#create road network\n",
    "base_dir = os.getcwd()\n",
    "base_road_path = f'{base_dir}\\\\testEnvironment\\\\Data\\\\belfast.osm.pbf'\n",
    "G, nodes, edges = network_bands.load_osm_network(file_path=base_road_path, network_type='driving', graph_type='networkx')"
   ]
  },
  {
   "cell_type": "code",
   "execution_count": null,
   "metadata": {},
   "outputs": [],
   "source": [
    "#Load destinations\n",
    "destinations_loaded = pd.read_csv(f'{base_dir}\\\\testEnvironment\\\\Data\\\\libraries_belfast_2024.csv')\n",
    "destinations = network_bands.csv_to_gdf(csv = destinations_loaded, x_col = 'X COORDINATE', y_col = 'Y COORDINATE', \n",
    "                                               input_crs = 29902, crs_conversion = 4326)"
   ]
  },
  {
   "cell_type": "code",
   "execution_count": null,
   "metadata": {},
   "outputs": [],
   "source": [
    "#Load randomised pointer household dataset, ensure all data is projected to EPSG 4326.\n",
    "pointer = gpd.read_file(f'{base_dir}\\\\testEnvironment\\\\Data\\\\pointer_randomised.shp')\n",
    "pointer.to_crs(4326, inplace=True)\n",
    "\n",
    "pointer_sample = pointer.sample(n=10)\n",
    "pointer_large_sample = pointer.sample(n=150)"
   ]
  },
  {
   "cell_type": "code",
   "execution_count": null,
   "metadata": {},
   "outputs": [],
   "source": [
    "# Run the shortest_path_iterator to find the closest location to each household, \n",
    "# the function keeps only the closest distance and discards any that are further.\n",
    "#sampling dataset as it's very slow right now.\n",
    "\n",
    "pointer_shortest_small = network_bands.shortest_path_iterator(start_locations = pointer_sample, destination_locations = destinations, networkx_graph = G)\n",
    "pointer_shortest_small.head(5)"
   ]
  },
  {
   "cell_type": "code",
   "execution_count": null,
   "metadata": {},
   "outputs": [],
   "source": [
    "#Example to show other warning for datasets >= 100 in size.\n",
    "pointer_shortest_large = network_bands.shortest_path_iterator(start_locations = pointer_large_sample, destination_locations = destinations, networkx_graph = G)\n",
    "pointer_shortest_large.head(10)"
   ]
  }
 ],
 "metadata": {
  "kernelspec": {
   "display_name": "netgeo_env",
   "language": "python",
   "name": "python3"
  },
  "language_info": {
   "codemirror_mode": {
    "name": "ipython",
    "version": 3
   },
   "file_extension": ".py",
   "mimetype": "text/x-python",
   "name": "python",
   "nbconvert_exporter": "python",
   "pygments_lexer": "ipython3",
   "version": "3.9.19"
  }
 },
 "nbformat": 4,
 "nbformat_minor": 2
}
