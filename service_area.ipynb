{
 "cells": [
  {
   "cell_type": "code",
   "execution_count": null,
   "metadata": {},
   "outputs": [],
   "source": [
    "from pyrosm import OSM\n",
    "import geopandas as gpd\n",
    "import pandas as pd\n",
    "import networkx as nx\n",
    "import osmnx as ox\n",
    "from shapely.geometry import Point, Polygon, MultiPoint\n",
    "import folium\n",
    "import matplotlib.pyplot as plt\n",
    "import alphashape\n",
    "import contextily \n",
    "from descartes import PolygonPatch\n"
   ]
  },
  {
   "cell_type": "code",
   "execution_count": null,
   "metadata": {},
   "outputs": [],
   "source": [
    "# assign file path to osm pbf file.\n",
    "base_road_path = 'C:/Users/hular/projects/ClosestDestination/testEnvironment/Data/belfast_slightly_trimmed.osm.pbf'\n",
    "\n",
    "osm = OSM(base_road_path)\n",
    "\n",
    "#load road network from graph\n",
    "G_network = osm.get_network(network_type = 'driving', nodes = True)\n",
    "\n",
    "# #Convert to ga graph (this will create if not a pyrosm source)\n",
    "# if not isinstance(G, nx.Graph):\n",
    "#     G = nx.from_pandas_edgelist(G, source='u', target='v', edge_attr=True)\n",
    "\n",
    "nodes, edges = osm.get_network(network_type='driving', nodes=True)\n",
    "\n",
    "#generate graph of network\n",
    "G = osm.to_graph(nodes, edges, graph_type='networkx')\n",
    "\n",
    "#edges.plot(figsize=(10,10))"
   ]
  },
  {
   "cell_type": "code",
   "execution_count": null,
   "metadata": {},
   "outputs": [],
   "source": [
    "#load in the data which service areas will be analysed.\n",
    "#sticking it in a try loop forces it to work.\n",
    "service_locations_csv = pd.read_csv('C:/Users/hular/projects/ClosestDestination/testEnvironment/Data/libraries_belfast_2024_very_trimmed.csv')\n",
    "\n",
    "def csv_to_gdf(csv = service_locations_csv, x = 'X COORDINATE', y = 'Y COORDINATE', input_crs = 29902, crs_conversion = None):\n",
    "    \"\"\" function to convert csv to a gdf based off X, Y coordinates and input CRS. Optional CRS conversion.\"\"\"\n",
    "    #create a list for each row of geom by zipping and turn into a point tuple\n",
    "    try:\n",
    "        csv['geometry'] = list(zip(csv[x], csv[y]))\n",
    "        csv['geometry'] = csv['geometry'].apply(Point)\n",
    "        # Convert to GeoDataFrame\n",
    "        gdf = gpd.GeoDataFrame(csv, geometry='geometry', crs=f'EPSG:{input_crs}')\n",
    "        #Only converts if specified\n",
    "        if crs_conversion:\n",
    "            gdf = gdf.to_crs(epsg=crs_conversion)\n",
    "        return gdf\n",
    "    except Exception:\n",
    "        print(f'Exception error: {Exception}')\n",
    "        \n",
    "        # Return the GeoDataFrame\n",
    "\n",
    "service_locations = csv_to_gdf(csv=service_locations_csv, crs_conversion=4326)\n"
   ]
  },
  {
   "cell_type": "code",
   "execution_count": 142,
   "metadata": {},
   "outputs": [
    {
     "name": "stdout",
     "output_type": "stream",
     "text": [
      "{'Ballyhackamore Library': {'nearest_node': 73250694}, 'Finaghy Library': {'nearest_node': 8417220926}, 'Grove Library': {'nearest_node': 3732169380}, 'Woodstock Library': {'nearest_node': 11186018716}}\n"
     ]
    },
    {
     "data": {
      "text/plain": [
       "dict_values([{'nearest_node': 73250694}, {'nearest_node': 8417220926}, {'nearest_node': 3732169380}, {'nearest_node': 11186018716}])"
      ]
     },
     "execution_count": 142,
     "metadata": {},
     "output_type": "execute_result"
    }
   ],
   "source": [
    "#Function to create a dict of names and nearest names to be called in a loop creating the subgraphs for each location.\n",
    "def nearest_node_and_name(Network_graph, locations, name):\n",
    "    \"\"\" Create a dictionary of location names and nearest node on Graph  \"\"\"   \n",
    "    service_xy = {}\n",
    "    \n",
    "    for index, row in locations.iterrows():\n",
    "        #extract x and y for each library\n",
    "        location_x = row['geometry'].x\n",
    "        location_y = row['geometry'].y\n",
    "        #calculate the nearest node on the Graph\n",
    "        nearest_node = ox.distance.nearest_nodes(Network_graph, location_x, location_y)\n",
    "        # extract the library name\n",
    "        name = row['Static Library Name']\n",
    "        #Combine the name and nearest name. \n",
    "        service_xy[name] = {'nearest_node': nearest_node}\n",
    "    return service_xy\n",
    "\n",
    "service_locations_nearest_node = nearest_node_and_name(G, service_locations, 'Static Library Name')\n"
   ]
  },
  {
   "cell_type": "code",
   "execution_count": null,
   "metadata": {},
   "outputs": [],
   "source": [
    "#Example single not looped yet.\n",
    "#loop over library nearest node dict with single_source_path_length, \n",
    "# create a new dict with name and polygons created from the reachable nodes and retain the travel distance.\n",
    "#Create closest node for example. Loop this later.\n",
    "single_location = service_locations.iloc[1]\n",
    "x,y =(single_location['geometry'].x, single_location['geometry'].y)\n",
    "\n",
    "nearest_node = ox.nearest_nodes(G, X=x, Y=y )\n",
    "\n",
    "# distance in metres, time = seconds. For creation of subgraph\n",
    "max_travel_distance = 1000\n",
    "\n",
    "# Create a sub-graph and a list of nodes within the specified distance.\n",
    "#subgraph = subsection of the main Graph based on cutoff\n",
    "subgraph = nx.single_source_dijkstra_path_length(G, nearest_node, cutoff=max_travel_distance, weight='length')\n",
    "reachable_nodes = list(subgraph.keys())\n",
    "\n",
    "node_points = [Point(G.nodes[node]['x'], G.nodes[node]['y']) for node in reachable_nodes]\n",
    "polygon = Polygon([[point.x, point.y] for point in node_points])\n"
   ]
  },
  {
   "cell_type": "code",
   "execution_count": null,
   "metadata": {},
   "outputs": [],
   "source": [
    "# Create a gdf for the polygon.\n",
    "import geopandas as gpd\n",
    "gdf = gpd.GeoDataFrame([polygon], columns=['geometry'], crs='EPSG:4326')\n",
    "\n",
    "fig, ax = plt.subplots()\n",
    "gdf.boundary.plot(ax=ax)\n",
    "gdf.plot(ax=ax, color='blue', alpha=0.5)\n",
    "plt.show()\n",
    "\n",
    "\n",
    "\n",
    "service_point = (54.55998716608919, -5.983139503268679)  # Latitude, Longitude\n",
    "\n",
    "m = folium.Map(location=[service_point[0], service_point[1]], zoom_start=14)\n",
    "\n",
    "folium.GeoJson(gdf).add_to(m)\n",
    "\n",
    "m.save(r\"C:\\Users\\hular\\projects\\ClosestDestination\\testEnvironment\\service_area_map.html\")"
   ]
  },
  {
   "cell_type": "code",
   "execution_count": null,
   "metadata": {},
   "outputs": [],
   "source": [
    "#convex hull creation. Very ugly. Kind of pointless.\n",
    "points = MultiPoint(node_points)\n",
    "convex_hull_polygon = points.convex_hull\n",
    "\n",
    "#plot convex hull\n",
    "x,y = convex_hull_polygon.exterior.xy\n",
    "x_coords = [point.x for point in node_points]\n",
    "y_coords = [point.y for point in node_points]\n",
    "plt.figure()\n",
    "plt.plot(x, y)\n",
    "plt.scatter(x_coords, y_coords, color='red') # Scatter plot of the original points\n",
    "plt.show()"
   ]
  },
  {
   "cell_type": "code",
   "execution_count": null,
   "metadata": {},
   "outputs": [],
   "source": [
    "#Convert to pandas series then extract the x and y coords from the list of tuples and then reassign as a list, this removes the 'geometry'.\n",
    "node_points_series = pd.Series(node_points)\n",
    "node_point_series_tuples_list = node_points_series.apply(lambda point: (point.x, point.y))\n",
    "correct_points_list = node_point_series_tuples_list.tolist()"
   ]
  },
  {
   "cell_type": "code",
   "execution_count": null,
   "metadata": {},
   "outputs": [],
   "source": [
    "#alpha param can be defined locally within a region of points. this changes density density off X coordinates density\n",
    "#lambda ind, r: 500.0 + any(np.array(correct_points_list)[ind][:, 0] == 0.0) #from the docs\n",
    "alpha_value = 1000\n",
    "\n",
    "print(alpha_value)\n",
    "alpha_shape = alphashape.alphashape(correct_points_list, \n",
    "                                    alpha_value)"
   ]
  },
  {
   "cell_type": "code",
   "execution_count": null,
   "metadata": {},
   "outputs": [],
   "source": [
    "#create geodataframes alpha hull and points\n",
    "gdf_alpha = gpd.GeoDataFrame(geometry=[alpha_shape], crs=4326)\n",
    "points = [Point(xy) for xy in correct_points_list]\n",
    "gdf_nodes = gpd.GeoDataFrame( geometry= node_points, crs = 4326)\n",
    "\n",
    "fig, ax = plt.subplots()\n",
    "\n",
    "# Plot the alpha shape and nodes on same axes\n",
    "gdf_alpha.plot(ax=ax, color='darkblue', alpha=0.8)  \n",
    "gdf_nodes.plot(ax=ax, color='red', markersize=5)\n",
    "\n",
    "ax.set_title(f'Alpha Value = {alpha_value}')\n",
    "ax.set_xlabel('Long')\n",
    "ax.set_ylabel('Lat')\n",
    "\n",
    "plt.show()\n"
   ]
  }
 ],
 "metadata": {
  "kernelspec": {
   "display_name": "netgeo_env",
   "language": "python",
   "name": "python3"
  },
  "language_info": {
   "codemirror_mode": {
    "name": "ipython",
    "version": 3
   },
   "file_extension": ".py",
   "mimetype": "text/x-python",
   "name": "python",
   "nbconvert_exporter": "python",
   "pygments_lexer": "ipython3",
   "version": "3.12.3"
  }
 },
 "nbformat": 4,
 "nbformat_minor": 2
}
